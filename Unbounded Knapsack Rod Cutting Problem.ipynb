{
 "cells": [
  {
   "cell_type": "code",
   "execution_count": 1,
   "id": "306781f7",
   "metadata": {},
   "outputs": [],
   "source": [
    "length = [1,2,3,4,5,6,7,8]\n",
    "vals = [8,7,6,5,4,3,2,1]\n",
    "n = len(length)-1\n",
    "l = 8"
   ]
  },
  {
   "cell_type": "code",
   "execution_count": 2,
   "id": "5c384716",
   "metadata": {},
   "outputs": [
    {
     "data": {
      "text/plain": [
       "7"
      ]
     },
     "execution_count": 2,
     "metadata": {},
     "output_type": "execute_result"
    }
   ],
   "source": [
    "n"
   ]
  },
  {
   "cell_type": "code",
   "execution_count": 5,
   "id": "de9992dc",
   "metadata": {},
   "outputs": [],
   "source": [
    "def unbounded_knapsack(length,vals,n,l):\n",
    "    if n < 0 or l <= 0 :\n",
    "        return 0\n",
    "    elif l-length[n] < 0 :\n",
    "        return unbounded_knapsack(length,vals,n-1,l)\n",
    "    else:\n",
    "        curr_max = max(vals[n] + unbounded_knapsack(length,vals,n,l-length[n]), unbounded_knapsack(length,vals,n-1,l))\n",
    "        return curr_max"
   ]
  },
  {
   "cell_type": "code",
   "execution_count": 6,
   "id": "31b140ef",
   "metadata": {},
   "outputs": [
    {
     "data": {
      "text/plain": [
       "64"
      ]
     },
     "execution_count": 6,
     "metadata": {},
     "output_type": "execute_result"
    }
   ],
   "source": [
    "unbounded_knapsack(length,vals,n,l)"
   ]
  },
  {
   "cell_type": "code",
   "execution_count": null,
   "id": "e2cc9b0d",
   "metadata": {},
   "outputs": [],
   "source": []
  }
 ],
 "metadata": {
  "kernelspec": {
   "display_name": "Python 3",
   "language": "python",
   "name": "python3"
  },
  "language_info": {
   "codemirror_mode": {
    "name": "ipython",
    "version": 3
   },
   "file_extension": ".py",
   "mimetype": "text/x-python",
   "name": "python",
   "nbconvert_exporter": "python",
   "pygments_lexer": "ipython3",
   "version": "3.8.5"
  }
 },
 "nbformat": 4,
 "nbformat_minor": 5
}
