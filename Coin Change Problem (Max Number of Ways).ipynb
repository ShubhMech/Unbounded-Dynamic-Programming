{
 "cells": [
  {
   "cell_type": "code",
   "execution_count": 20,
   "id": "a7b9513d",
   "metadata": {},
   "outputs": [],
   "source": [
    "length = [1,2,3,4,5,6,7,8]\n",
    "vals = [8,7,6,5,4,3,210,180]\n",
    "n = len(length)-1\n",
    "l = 8"
   ]
  },
  {
   "cell_type": "code",
   "execution_count": 21,
   "id": "25a43a85",
   "metadata": {},
   "outputs": [
    {
     "data": {
      "text/plain": [
       "7"
      ]
     },
     "execution_count": 21,
     "metadata": {},
     "output_type": "execute_result"
    }
   ],
   "source": [
    "n"
   ]
  },
  {
   "cell_type": "code",
   "execution_count": 22,
   "id": "f0adf81e",
   "metadata": {},
   "outputs": [],
   "source": [
    "def unbounded_knapsack(length,vals,n,l):\n",
    "    if n < 0 or l <= 0 :\n",
    "        return 0\n",
    "    elif l-length[n] < 0 :\n",
    "        return unbounded_knapsack(length,vals,n-1,l)\n",
    "    else:\n",
    "        curr_max = max(vals[n] + unbounded_knapsack(length,vals,n,l-length[n]), unbounded_knapsack(length,vals,n-1,l))\n",
    "        return curr_max"
   ]
  },
  {
   "cell_type": "code",
   "execution_count": 23,
   "id": "c4dd02ae",
   "metadata": {},
   "outputs": [
    {
     "data": {
      "text/plain": [
       "218"
      ]
     },
     "execution_count": 23,
     "metadata": {},
     "output_type": "execute_result"
    }
   ],
   "source": [
    "unbounded_knapsack(length,vals,n,l)"
   ]
  },
  {
   "cell_type": "code",
   "execution_count": 24,
   "id": "22713a9d",
   "metadata": {},
   "outputs": [],
   "source": [
    "length = [1,2,3,4,5,6,7,8]\n",
    "# vals = [8,7,6,5,4,3,210,180]\n",
    "n = len(length)-1\n",
    "s = 8"
   ]
  },
  {
   "cell_type": "code",
   "execution_count": 25,
   "id": "860faced",
   "metadata": {},
   "outputs": [],
   "source": [
    "t = [[0 for x in range(s+1)] for k in range(n+1)]"
   ]
  },
  {
   "cell_type": "code",
   "execution_count": 26,
   "id": "76f27280",
   "metadata": {},
   "outputs": [
    {
     "data": {
      "text/plain": [
       "[[0, 0, 0, 0, 0, 0, 0, 0, 0],\n",
       " [0, 0, 0, 0, 0, 0, 0, 0, 0],\n",
       " [0, 0, 0, 0, 0, 0, 0, 0, 0],\n",
       " [0, 0, 0, 0, 0, 0, 0, 0, 0],\n",
       " [0, 0, 0, 0, 0, 0, 0, 0, 0],\n",
       " [0, 0, 0, 0, 0, 0, 0, 0, 0],\n",
       " [0, 0, 0, 0, 0, 0, 0, 0, 0],\n",
       " [0, 0, 0, 0, 0, 0, 0, 0, 0]]"
      ]
     },
     "execution_count": 26,
     "metadata": {},
     "output_type": "execute_result"
    }
   ],
   "source": [
    "t"
   ]
  },
  {
   "cell_type": "code",
   "execution_count": 27,
   "id": "7aeb2e12",
   "metadata": {},
   "outputs": [],
   "source": [
    "arr = [11, 12, 3, 4, 7, 5, 15]\n",
    "sum_ = 15\n",
    "n= len(arr)\n",
    "\n",
    "t = [[0 for s in range(sum_+1)] for j in range(n+1)]\n",
    "for s in range(sum_+1):\n",
    "     for j in range(n+1):\n",
    "            if s == 0 :\n",
    "                t[j][s] = 1\n",
    "            elif j == 0 and s!= 0:\n",
    "                t[j][s] = 0\n",
    "            elif s-arr[j-1]<0:\n",
    "                t[j][s] = t[j-1][s]\n",
    "            else:\n",
    "                t[j][s] = t[j-1][s] + t[j][s-arr[j-1]]"
   ]
  },
  {
   "cell_type": "code",
   "execution_count": 29,
   "id": "6e87a9e8",
   "metadata": {},
   "outputs": [
    {
     "data": {
      "text/plain": [
       "9"
      ]
     },
     "execution_count": 29,
     "metadata": {},
     "output_type": "execute_result"
    }
   ],
   "source": [
    "t[j][s]\n"
   ]
  },
  {
   "cell_type": "code",
   "execution_count": 30,
   "id": "ec6b2075",
   "metadata": {},
   "outputs": [],
   "source": [
    "arr = [1,2,3]\n",
    "sum_ = 4\n",
    "n= len(arr)\n",
    "\n",
    "t = [[0 for s in range(sum_+1)] for j in range(n+1)]\n",
    "for s in range(sum_+1):\n",
    "     for j in range(n+1):\n",
    "            if s == 0 :\n",
    "                t[j][s] = 1\n",
    "            elif j == 0 and s!= 0:\n",
    "                t[j][s] = 0\n",
    "            elif s-arr[j-1]<0:\n",
    "                t[j][s] = t[j-1][s]\n",
    "            else:\n",
    "                t[j][s] = t[j-1][s] + t[j][s-arr[j-1]]"
   ]
  },
  {
   "cell_type": "code",
   "execution_count": 31,
   "id": "9640cf26",
   "metadata": {},
   "outputs": [
    {
     "data": {
      "text/plain": [
       "4"
      ]
     },
     "execution_count": 31,
     "metadata": {},
     "output_type": "execute_result"
    }
   ],
   "source": [
    "t[j][s]"
   ]
  },
  {
   "cell_type": "code",
   "execution_count": null,
   "id": "823da4d2",
   "metadata": {},
   "outputs": [],
   "source": []
  }
 ],
 "metadata": {
  "kernelspec": {
   "display_name": "Python 3",
   "language": "python",
   "name": "python3"
  },
  "language_info": {
   "codemirror_mode": {
    "name": "ipython",
    "version": 3
   },
   "file_extension": ".py",
   "mimetype": "text/x-python",
   "name": "python",
   "nbconvert_exporter": "python",
   "pygments_lexer": "ipython3",
   "version": "3.8.5"
  }
 },
 "nbformat": 4,
 "nbformat_minor": 5
}
